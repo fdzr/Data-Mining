{
  "nbformat": 4,
  "nbformat_minor": 0,
  "metadata": {
    "colab": {
      "name": "classifiers.ipynb",
      "provenance": [],
      "collapsed_sections": [],
      "authorship_tag": "ABX9TyNFNVr3M5AJ837MPhiaCjim",
      "include_colab_link": true
    },
    "kernelspec": {
      "display_name": "Python 3",
      "name": "python3"
    },
    "language_info": {
      "name": "python"
    }
  },
  "cells": [
    {
      "cell_type": "markdown",
      "metadata": {
        "id": "view-in-github",
        "colab_type": "text"
      },
      "source": [
        "<a href=\"https://colab.research.google.com/github/fdzr/Data-Mining/blob/master/classifiers.ipynb\" target=\"_parent\"><img src=\"https://colab.research.google.com/assets/colab-badge.svg\" alt=\"Open In Colab\"/></a>"
      ]
    },
    {
      "cell_type": "code",
      "metadata": {
        "id": "1YlZwwAVoMfA"
      },
      "source": [
        "import numpy as np\n",
        "\n",
        "from sklearn import datasets\n",
        "from sklearn.preprocessing import StandardScaler\n",
        "from sklearn.svm import LinearSVC, SVC, LinearSVR\n",
        "from sklearn.tree import DecisionTreeClassifier, export_graphviz, DecisionTreeRegressor\n",
        "from sklearn.ensemble import RandomForestClassifier, VotingClassifier, BaggingClassifier\n",
        "from sklearn.linear_model import LogisticRegression\n",
        "from sklearn.datasets import make_moons\n",
        "from sklearn.model_selection import train_test_split\n",
        "from sklearn.metrics import accuracy_score\n",
        "from sklearn.pipeline import Pipeline\n",
        "from sklearn.preprocessing import PolynomialFeatures\n",
        "\n",
        "import matplotlib.pyplot as plt\n"
      ],
      "execution_count": 4,
      "outputs": []
    },
    {
      "cell_type": "code",
      "metadata": {
        "id": "QwJZpaIToZRj"
      },
      "source": [
        "iris = datasets.load_iris()"
      ],
      "execution_count": null,
      "outputs": []
    },
    {
      "cell_type": "code",
      "metadata": {
        "colab": {
          "base_uri": "https://localhost:8080/"
        },
        "id": "djGIMysvofIT",
        "outputId": "173c6b89-a702-452c-a140-fcdd4b3c773c"
      },
      "source": [
        "list(iris.keys())"
      ],
      "execution_count": null,
      "outputs": [
        {
          "data": {
            "text/plain": [
              "['data',\n",
              " 'target',\n",
              " 'frame',\n",
              " 'target_names',\n",
              " 'DESCR',\n",
              " 'feature_names',\n",
              " 'filename',\n",
              " 'data_module']"
            ]
          },
          "execution_count": 3,
          "metadata": {},
          "output_type": "execute_result"
        }
      ]
    },
    {
      "cell_type": "code",
      "metadata": {
        "id": "YCV7fPz0oiHy"
      },
      "source": [
        "X = iris[\"data\"][:, 3:]\n",
        "y = (iris[\"target\"] == 2).astype(np.int)"
      ],
      "execution_count": null,
      "outputs": []
    },
    {
      "cell_type": "code",
      "metadata": {
        "colab": {
          "base_uri": "https://localhost:8080/"
        },
        "id": "TbcSO_wko5Yt",
        "outputId": "5779d096-93a2-4456-ccaa-e987c6aaf445"
      },
      "source": [
        "log_reg = LogisticRegression()\n",
        "log_reg.fit(X, y)"
      ],
      "execution_count": null,
      "outputs": [
        {
          "data": {
            "text/plain": [
              "LogisticRegression()"
            ]
          },
          "execution_count": 5,
          "metadata": {},
          "output_type": "execute_result"
        }
      ]
    },
    {
      "cell_type": "code",
      "metadata": {
        "colab": {
          "base_uri": "https://localhost:8080/",
          "height": 282
        },
        "id": "V4zMLB-EpBCg",
        "outputId": "cf73642d-d5ba-4ab6-c27b-4f51bf74107a"
      },
      "source": [
        "X_new = np.linspace(0, 3, 1000).reshape(-1, 1)\n",
        "y_proba = log_reg.predict_proba(X_new)\n",
        "plt.plot(X_new, y_proba[:, 1], \"g-\", label=\"Iris virginica\")\n",
        "plt.plot(X_new, y_proba[:, 0], \"b--\", label=\"Not iris virginica\")"
      ],
      "execution_count": null,
      "outputs": [
        {
          "data": {
            "text/plain": [
              "[<matplotlib.lines.Line2D at 0x7fe9c3e57850>]"
            ]
          },
          "execution_count": 6,
          "metadata": {},
          "output_type": "execute_result"
        },
        {
          "data": {
            "image/png": "[encoded data removed]",
            "text/plain": [
              "<Figure size 432x288 with 1 Axes>"
            ]
          },
          "metadata": {},
          "output_type": "display_data"
        }
      ]
    },
    {
      "cell_type": "code",
      "metadata": {
        "colab": {
          "base_uri": "https://localhost:8080/"
        },
        "id": "SJTZwr13UBXs",
        "outputId": "c2dab879-a36d-4913-f4f8-33e8707935b7"
      },
      "source": [
        "log_reg.predict([[1.7], [1.5]])"
      ],
      "execution_count": null,
      "outputs": [
        {
          "data": {
            "text/plain": [
              "array([1, 0])"
            ]
          },
          "execution_count": 8,
          "metadata": {},
          "output_type": "execute_result"
        }
      ]
    },
    {
      "cell_type": "code",
      "metadata": {
        "id": "Di47swp9j80P"
      },
      "source": [
        "X = iris[\"data\"][:, (2, 3)]\n",
        "y = (iris[\"target\"] == 2).astype(np.float64)"
      ],
      "execution_count": null,
      "outputs": []
    },
    {
      "cell_type": "code",
      "metadata": {
        "colab": {
          "base_uri": "https://localhost:8080/"
        },
        "id": "_x4vjU2zkbQw",
        "outputId": "ad3c8c60-40d2-4ced-8300-1448dfd66423"
      },
      "source": [
        "svm_clf = Pipeline([\n",
        "                    (\"scaler\", StandardScaler()),\n",
        "                    (\"linear_svc\", LinearSVC(C=1, loss=\"hinge\"))\n",
        "])\n",
        "svm_clf.fit(X, y)"
      ],
      "execution_count": null,
      "outputs": [
        {
          "data": {
            "text/plain": [
              "Pipeline(steps=[('scaler', StandardScaler()),\n",
              "                ('linear_svc', LinearSVC(C=1, loss='hinge'))])"
            ]
          },
          "execution_count": 14,
          "metadata": {},
          "output_type": "execute_result"
        }
      ]
    },
    {
      "cell_type": "code",
      "metadata": {
        "colab": {
          "base_uri": "https://localhost:8080/"
        },
        "id": "MrLqx53BlCX1",
        "outputId": "b64dc50d-1e81-46ad-9237-f05d6837dfa0"
      },
      "source": [
        "svm_clf.predict([[5.5, 1.7]])"
      ],
      "execution_count": null,
      "outputs": [
        {
          "data": {
            "text/plain": [
              "array([1.])"
            ]
          },
          "execution_count": 15,
          "metadata": {},
          "output_type": "execute_result"
        }
      ]
    },
    {
      "cell_type": "code",
      "metadata": {
        "colab": {
          "background_save": true
        },
        "id": "r9Axr4Flfodl"
      },
      "source": [
        "X, y = make_moons(n_samples=100, noise=0.15)"
      ],
      "execution_count": null,
      "outputs": []
    },
    {
      "cell_type": "code",
      "metadata": {
        "colab": {
          "base_uri": "https://localhost:8080/"
        },
        "id": "opLSr_K6rikr",
        "outputId": "7342560c-d6a7-4cf5-bc59-b19d28e240c6"
      },
      "source": [
        "polynomial_svm_clf = Pipeline([\n",
        "                (\"poly_features\", PolynomialFeatures(degree=3)),\n",
        "                (\"scaler\", StandardScaler()),\n",
        "                (\"svm_clf\", LinearSVC(C=10, loss=\"hinge\"))\n",
        "])\n",
        "polynomial_svm_clf.fit(X, y)"
      ],
      "execution_count": null,
      "outputs": [
        {
          "name": "stderr",
          "output_type": "stream",
          "text": [
            "/usr/local/lib/python3.7/dist-packages/sklearn/svm/_base.py:1208: ConvergenceWarning: Liblinear failed to converge, increase the number of iterations.\n",
            "  ConvergenceWarning,\n"
          ]
        },
        {
          "data": {
            "text/plain": [
              "Pipeline(steps=[('poly_features', PolynomialFeatures(degree=3)),\n",
              "                ('scaler', StandardScaler()),\n",
              "                ('svm_clf', LinearSVC(C=10, loss='hinge'))])"
            ]
          },
          "execution_count": 9,
          "metadata": {},
          "output_type": "execute_result"
        }
      ]
    },
    {
      "cell_type": "code",
      "metadata": {
        "id": "dyspUEC5r1Xj"
      },
      "source": [
        "poly_kernel_svm_clf = Pipeline([\n",
        "                    (\"scaler\", StandardScaler()),\n",
        "                    (\"svm_clf\", SVC(kernel=\"poly\", degree=3, coef0=1, C=5)),\n",
        "])"
      ],
      "execution_count": null,
      "outputs": []
    },
    {
      "cell_type": "code",
      "metadata": {
        "colab": {
          "base_uri": "https://localhost:8080/"
        },
        "id": "HcxV5L8us_pp",
        "outputId": "7f161e55-6b58-45fd-e5ea-2e1322ebd634"
      },
      "source": [
        "poly_kernel_svm_clf.fit(X, y)"
      ],
      "execution_count": null,
      "outputs": [
        {
          "data": {
            "text/plain": [
              "Pipeline(steps=[('scaler', StandardScaler()),\n",
              "                ('svm_clf', SVC(C=5, coef0=1, kernel='poly'))])"
            ]
          },
          "execution_count": 16,
          "metadata": {},
          "output_type": "execute_result"
        }
      ]
    },
    {
      "cell_type": "code",
      "metadata": {
        "colab": {
          "base_uri": "https://localhost:8080/"
        },
        "id": "E04rSBVfy8EQ",
        "outputId": "31f7c87e-f4b8-4384-83a0-4cf0b0bba1ed"
      },
      "source": [
        "rbf_kernel_svm_clf = Pipeline([\n",
        "                            (\"scaler\", StandardScaler()),\n",
        "                            (\"svm_clf\", SVC(kernel=\"rbf\", gamma=5, C=0.001))\n",
        "])\n",
        "rbf_kernel_svm_clf.fit(X, y)"
      ],
      "execution_count": null,
      "outputs": [
        {
          "data": {
            "text/plain": [
              "Pipeline(steps=[('scaler', StandardScaler()),\n",
              "                ('svm_clf', SVC(C=0.001, gamma=5))])"
            ]
          },
          "execution_count": 5,
          "metadata": {},
          "output_type": "execute_result"
        }
      ]
    },
    {
      "cell_type": "code",
      "metadata": {
        "colab": {
          "base_uri": "https://localhost:8080/"
        },
        "id": "-YXFhIy21Cru",
        "outputId": "4cfc43c3-d3ad-400e-cc72-2cd2bbfb29cf"
      },
      "source": [
        "svm_reg = LinearSVR(epsilon=1.5)\n",
        "svm_reg.fit(X, y)"
      ],
      "execution_count": null,
      "outputs": [
        {
          "data": {
            "text/plain": [
              "LinearSVR(epsilon=1.5)"
            ]
          },
          "execution_count": 7,
          "metadata": {},
          "output_type": "execute_result"
        }
      ]
    },
    {
      "cell_type": "code",
      "metadata": {
        "id": "chPjL9AbYCWl"
      },
      "source": [
        "X = iris.data[:, 2:]\n",
        "y = iris.target"
      ],
      "execution_count": null,
      "outputs": []
    },
    {
      "cell_type": "code",
      "metadata": {
        "colab": {
          "base_uri": "https://localhost:8080/"
        },
        "id": "MHEiknSeYMeT",
        "outputId": "2fe56760-6d7a-446c-c3dd-737d53d61c09"
      },
      "source": [
        "tree_clf = DecisionTreeClassifier(max_depth=2)\n",
        "tree_clf.fit(X, y)"
      ],
      "execution_count": null,
      "outputs": [
        {
          "data": {
            "text/plain": [
              "DecisionTreeClassifier(max_depth=2)"
            ]
          },
          "execution_count": 5,
          "metadata": {},
          "output_type": "execute_result"
        }
      ]
    },
    {
      "cell_type": "code",
      "metadata": {
        "colab": {
          "base_uri": "https://localhost:8080/"
        },
        "id": "mGsRWwyL8XTQ",
        "outputId": "7137a3d8-860a-4506-b1d3-4dc716e79a2f"
      },
      "source": [
        "tree_clf.predict_proba([[5, 1.5]])"
      ],
      "execution_count": null,
      "outputs": [
        {
          "data": {
            "text/plain": [
              "array([[0.        , 0.90740741, 0.09259259]])"
            ]
          },
          "execution_count": 7,
          "metadata": {},
          "output_type": "execute_result"
        }
      ]
    },
    {
      "cell_type": "code",
      "metadata": {
        "colab": {
          "base_uri": "https://localhost:8080/"
        },
        "id": "VE6RQxBN8fb0",
        "outputId": "6a2648a3-ae32-4e5a-a6f9-328e7cfffadc"
      },
      "source": [
        "tree_clf.predict([[5, 1.5]])"
      ],
      "execution_count": null,
      "outputs": [
        {
          "data": {
            "text/plain": [
              "array([1])"
            ]
          },
          "execution_count": 8,
          "metadata": {},
          "output_type": "execute_result"
        }
      ]
    },
    {
      "cell_type": "code",
      "metadata": {
        "colab": {
          "base_uri": "https://localhost:8080/"
        },
        "id": "joQuU4hy_0_1",
        "outputId": "d0f56bc6-6b7b-42c5-a725-31a793673ce2"
      },
      "source": [
        "tree_reg = DecisionTreeRegressor(max_depth=2)\n",
        "tree_reg.fit(X, y)"
      ],
      "execution_count": null,
      "outputs": [
        {
          "data": {
            "text/plain": [
              "DecisionTreeRegressor(max_depth=2)"
            ]
          },
          "execution_count": 10,
          "metadata": {},
          "output_type": "execute_result"
        }
      ]
    },
    {
      "cell_type": "code",
      "metadata": {
        "id": "tzJO5MWuWMOK"
      },
      "source": [
        "X, y = make_moons(n_samples=500, noise=0.30, random_state=42)\n",
        "X_train, X_test, y_train, y_test = train_test_split(X, y, random_state=42)"
      ],
      "execution_count": 2,
      "outputs": []
    },
    {
      "cell_type": "code",
      "metadata": {
        "id": "Au1AISeeW-ly"
      },
      "source": [
        "log_clf = LogisticRegression()\n",
        "rnd_clf = RandomForestClassifier()\n",
        "svm_clf = SVC()"
      ],
      "execution_count": null,
      "outputs": []
    },
    {
      "cell_type": "code",
      "metadata": {
        "id": "O0MppQhXXgQA"
      },
      "source": [
        "voting_clf = VotingClassifier(\n",
        "    estimators=[(\"lr\", log_clf), (\"rf\", rnd_clf), (\"svc\", svm_clf)],\n",
        "    voting=\"hard\"\n",
        ")"
      ],
      "execution_count": null,
      "outputs": []
    },
    {
      "cell_type": "code",
      "metadata": {
        "colab": {
          "base_uri": "https://localhost:8080/"
        },
        "id": "DHJX7fxxX0Ah",
        "outputId": "c3935d7c-8a76-4b31-94da-c6ecd7ae27bc"
      },
      "source": [
        "voting_clf.fit(X_train, y_train)"
      ],
      "execution_count": null,
      "outputs": [
        {
          "output_type": "execute_result",
          "data": {
            "text/plain": [
              "VotingClassifier(estimators=[('lr', LogisticRegression()),\n",
              "                             ('rf', RandomForestClassifier()), ('svc', SVC())])"
            ]
          },
          "metadata": {},
          "execution_count": 5
        }
      ]
    },
    {
      "cell_type": "code",
      "metadata": {
        "colab": {
          "base_uri": "https://localhost:8080/"
        },
        "id": "8Uk-9gANX7AM",
        "outputId": "b4389d58-6474-4979-fa82-e638ae6f705a"
      },
      "source": [
        "for clf in (log_clf, rnd_clf, svm_clf, voting_clf):\n",
        "    clf.fit(X_train, y_train)\n",
        "    y_pred = clf.predict(X_test)\n",
        "    print(clf.__class__.__name__, accuracy_score(y_test, y_pred))"
      ],
      "execution_count": null,
      "outputs": [
        {
          "output_type": "stream",
          "name": "stdout",
          "text": [
            "LogisticRegression 0.864\n",
            "RandomForestClassifier 0.896\n",
            "SVC 0.896\n",
            "VotingClassifier 0.904\n"
          ]
        }
      ]
    },
    {
      "cell_type": "code",
      "metadata": {
        "id": "O7iGU_5fYqPJ"
      },
      "source": [
        "bag_clf = BaggingClassifier(\n",
        "    DecisionTreeClassifier(),\n",
        "    n_estimators=500,\n",
        "    max_samples=100,\n",
        "    bootstrap=True,\n",
        "    n_jobs=-1\n",
        ")"
      ],
      "execution_count": 5,
      "outputs": []
    },
    {
      "cell_type": "code",
      "metadata": {
        "id": "J4o79gDh5Poc"
      },
      "source": [
        "bag_clf.fit(X_train, y_train)\n",
        "y_pred = bag_clf.predict(X_test)"
      ],
      "execution_count": 6,
      "outputs": []
    },
    {
      "cell_type": "code",
      "metadata": {
        "id": "oPPCuSD87rOD"
      },
      "source": [
        "bag_clf = BaggingClassifier(\n",
        "    DecisionTreeClassifier(),\n",
        "    n_estimators=500,\n",
        "    bootstrap=True,\n",
        "    n_jobs=-1,\n",
        "    oob_score=True\n",
        ")"
      ],
      "execution_count": 9,
      "outputs": []
    },
    {
      "cell_type": "code",
      "metadata": {
        "colab": {
          "base_uri": "https://localhost:8080/"
        },
        "id": "4rwftOMy74gY",
        "outputId": "36949ef4-2d5c-4f95-9507-bf54fe51daf7"
      },
      "source": [
        "bag_clf.fit(X_train, y_train)\n",
        "bag_clf.oob_score_"
      ],
      "execution_count": 10,
      "outputs": [
        {
          "output_type": "execute_result",
          "data": {
            "text/plain": [
              "0.8933333333333333"
            ]
          },
          "metadata": {},
          "execution_count": 10
        }
      ]
    },
    {
      "cell_type": "code",
      "metadata": {
        "colab": {
          "base_uri": "https://localhost:8080/"
        },
        "id": "obCUcc9q8LUX",
        "outputId": "70824dfe-8ff5-4572-fa35-afa16f26f61d"
      },
      "source": [
        "y_pred = bag_clf.predict(X_test)\n",
        "accuracy_score(y_test, y_pred)"
      ],
      "execution_count": 11,
      "outputs": [
        {
          "output_type": "execute_result",
          "data": {
            "text/plain": [
              "0.896"
            ]
          },
          "metadata": {},
          "execution_count": 11
        }
      ]
    },
    {
      "cell_type": "code",
      "metadata": {
        "colab": {
          "base_uri": "https://localhost:8080/"
        },
        "id": "bcp3UIo59bw1",
        "outputId": "6470974e-a05b-4b0c-d907-b37c8c1412ae"
      },
      "source": [
        "bag_clf.oob_decision_function_"
      ],
      "execution_count": 14,
      "outputs": [
        {
          "output_type": "execute_result",
          "data": {
            "text/plain": [
              "array([[0.36787565, 0.63212435],\n",
              "       [0.40449438, 0.59550562],\n",
              "       [1.        , 0.        ],\n",
              "       [0.        , 1.        ],\n",
              "       [0.        , 1.        ],\n",
              "       [0.12290503, 0.87709497],\n",
              "       [0.31666667, 0.68333333],\n",
              "       [0.02702703, 0.97297297],\n",
              "       [0.9895288 , 0.0104712 ],\n",
              "       [0.98360656, 0.01639344],\n",
              "       [0.76470588, 0.23529412],\n",
              "       [0.00985222, 0.99014778],\n",
              "       [0.75806452, 0.24193548],\n",
              "       [0.86772487, 0.13227513],\n",
              "       [0.98360656, 0.01639344],\n",
              "       [0.05235602, 0.94764398],\n",
              "       [0.        , 1.        ],\n",
              "       [0.98285714, 0.01714286],\n",
              "       [0.94512195, 0.05487805],\n",
              "       [0.98453608, 0.01546392],\n",
              "       [0.01604278, 0.98395722],\n",
              "       [0.34158416, 0.65841584],\n",
              "       [0.93063584, 0.06936416],\n",
              "       [1.        , 0.        ],\n",
              "       [0.96791444, 0.03208556],\n",
              "       [0.        , 1.        ],\n",
              "       [1.        , 0.        ],\n",
              "       [1.        , 0.        ],\n",
              "       [0.        , 1.        ],\n",
              "       [0.65269461, 0.34730539],\n",
              "       [0.        , 1.        ],\n",
              "       [1.        , 0.        ],\n",
              "       [0.        , 1.        ],\n",
              "       [0.        , 1.        ],\n",
              "       [0.16393443, 0.83606557],\n",
              "       [1.        , 0.        ],\n",
              "       [0.        , 1.        ],\n",
              "       [0.35643564, 0.64356436],\n",
              "       [0.        , 1.        ],\n",
              "       [1.        , 0.        ],\n",
              "       [0.17948718, 0.82051282],\n",
              "       [0.30051813, 0.69948187],\n",
              "       [1.        , 0.        ],\n",
              "       [1.        , 0.        ],\n",
              "       [0.        , 1.        ],\n",
              "       [1.        , 0.        ],\n",
              "       [1.        , 0.        ],\n",
              "       [0.02173913, 0.97826087],\n",
              "       [1.        , 0.        ],\n",
              "       [0.        , 1.        ],\n",
              "       [0.98477157, 0.01522843],\n",
              "       [0.95263158, 0.04736842],\n",
              "       [0.96791444, 0.03208556],\n",
              "       [0.98125   , 0.01875   ],\n",
              "       [0.        , 1.        ],\n",
              "       [0.02857143, 0.97142857],\n",
              "       [0.98285714, 0.01714286],\n",
              "       [0.00568182, 0.99431818],\n",
              "       [0.        , 1.        ],\n",
              "       [0.01020408, 0.98979592],\n",
              "       [0.99043062, 0.00956938],\n",
              "       [0.75903614, 0.24096386],\n",
              "       [0.36144578, 0.63855422],\n",
              "       [1.        , 0.        ],\n",
              "       [0.        , 1.        ],\n",
              "       [0.66871166, 0.33128834],\n",
              "       [1.        , 0.        ],\n",
              "       [1.        , 0.        ],\n",
              "       [0.82380952, 0.17619048],\n",
              "       [1.        , 0.        ],\n",
              "       [0.55737705, 0.44262295],\n",
              "       [0.1344086 , 0.8655914 ],\n",
              "       [0.63736264, 0.36263736],\n",
              "       [0.88359788, 0.11640212],\n",
              "       [0.        , 1.        ],\n",
              "       [0.16939891, 0.83060109],\n",
              "       [0.91256831, 0.08743169],\n",
              "       [1.        , 0.        ],\n",
              "       [0.        , 1.        ],\n",
              "       [0.99444444, 0.00555556],\n",
              "       [0.        , 1.        ],\n",
              "       [0.04390244, 0.95609756],\n",
              "       [0.02222222, 0.97777778],\n",
              "       [0.36548223, 0.63451777],\n",
              "       [1.        , 0.        ],\n",
              "       [0.        , 1.        ],\n",
              "       [0.83009709, 0.16990291],\n",
              "       [0.00529101, 0.99470899],\n",
              "       [0.        , 1.        ],\n",
              "       [0.        , 1.        ],\n",
              "       [0.19760479, 0.80239521],\n",
              "       [1.        , 0.        ],\n",
              "       [0.        , 1.        ],\n",
              "       [0.        , 1.        ],\n",
              "       [0.        , 1.        ],\n",
              "       [0.96      , 0.04      ],\n",
              "       [0.79878049, 0.20121951],\n",
              "       [0.00526316, 0.99473684],\n",
              "       [1.        , 0.        ],\n",
              "       [0.25142857, 0.74857143],\n",
              "       [0.63243243, 0.36756757],\n",
              "       [0.        , 1.        ],\n",
              "       [0.0591716 , 0.9408284 ],\n",
              "       [0.52879581, 0.47120419],\n",
              "       [1.        , 0.        ],\n",
              "       [0.03191489, 0.96808511],\n",
              "       [1.        , 0.        ],\n",
              "       [0.2371134 , 0.7628866 ],\n",
              "       [0.5492228 , 0.4507772 ],\n",
              "       [1.        , 0.        ],\n",
              "       [0.02105263, 0.97894737],\n",
              "       [0.98387097, 0.01612903],\n",
              "       [0.21910112, 0.78089888],\n",
              "       [0.94210526, 0.05789474],\n",
              "       [1.        , 0.        ],\n",
              "       [1.        , 0.        ],\n",
              "       [0.        , 1.        ],\n",
              "       [0.        , 1.        ],\n",
              "       [0.80681818, 0.19318182],\n",
              "       [1.        , 0.        ],\n",
              "       [0.        , 1.        ],\n",
              "       [1.        , 0.        ],\n",
              "       [0.99492386, 0.00507614],\n",
              "       [1.        , 0.        ],\n",
              "       [1.        , 0.        ],\n",
              "       [1.        , 0.        ],\n",
              "       [0.00518135, 0.99481865],\n",
              "       [0.93710692, 0.06289308],\n",
              "       [0.98445596, 0.01554404],\n",
              "       [0.0257732 , 0.9742268 ],\n",
              "       [0.20114943, 0.79885057],\n",
              "       [0.95402299, 0.04597701],\n",
              "       [0.32768362, 0.67231638],\n",
              "       [0.99444444, 0.00555556],\n",
              "       [0.        , 1.        ],\n",
              "       [0.00526316, 0.99473684],\n",
              "       [0.70949721, 0.29050279],\n",
              "       [0.4       , 0.6       ],\n",
              "       [0.36666667, 0.63333333],\n",
              "       [0.84782609, 0.15217391],\n",
              "       [0.93717277, 0.06282723],\n",
              "       [0.05319149, 0.94680851],\n",
              "       [0.84895833, 0.15104167],\n",
              "       [0.01142857, 0.98857143],\n",
              "       [0.        , 1.        ],\n",
              "       [0.0255102 , 0.9744898 ],\n",
              "       [0.98395722, 0.01604278],\n",
              "       [1.        , 0.        ],\n",
              "       [1.        , 0.        ],\n",
              "       [0.01104972, 0.98895028],\n",
              "       [0.        , 1.        ],\n",
              "       [0.04117647, 0.95882353],\n",
              "       [0.0106383 , 0.9893617 ],\n",
              "       [1.        , 0.        ],\n",
              "       [1.        , 0.        ],\n",
              "       [0.95428571, 0.04571429],\n",
              "       [1.        , 0.        ],\n",
              "       [1.        , 0.        ],\n",
              "       [0.99425287, 0.00574713],\n",
              "       [0.        , 1.        ],\n",
              "       [0.37222222, 0.62777778],\n",
              "       [0.25966851, 0.74033149],\n",
              "       [0.00518135, 0.99481865],\n",
              "       [0.        , 1.        ],\n",
              "       [0.30285714, 0.69714286],\n",
              "       [1.        , 0.        ],\n",
              "       [1.        , 0.        ],\n",
              "       [0.        , 1.        ],\n",
              "       [1.        , 0.        ],\n",
              "       [0.00558659, 0.99441341],\n",
              "       [0.        , 1.        ],\n",
              "       [0.98843931, 0.01156069],\n",
              "       [0.        , 1.        ],\n",
              "       [0.        , 1.        ],\n",
              "       [1.        , 0.        ],\n",
              "       [0.        , 1.        ],\n",
              "       [0.62430939, 0.37569061],\n",
              "       [0.94674556, 0.05325444],\n",
              "       [0.        , 1.        ],\n",
              "       [0.98974359, 0.01025641],\n",
              "       [1.        , 0.        ],\n",
              "       [1.        , 0.        ],\n",
              "       [0.        , 1.        ],\n",
              "       [0.        , 1.        ],\n",
              "       [1.        , 0.        ],\n",
              "       [0.06557377, 0.93442623],\n",
              "       [1.        , 0.        ],\n",
              "       [0.03773585, 0.96226415],\n",
              "       [0.        , 1.        ],\n",
              "       [1.        , 0.        ],\n",
              "       [0.        , 1.        ],\n",
              "       [0.05084746, 0.94915254],\n",
              "       [1.        , 0.        ],\n",
              "       [0.91623037, 0.08376963],\n",
              "       [0.66009852, 0.33990148],\n",
              "       [0.65957447, 0.34042553],\n",
              "       [0.        , 1.        ],\n",
              "       [0.10493827, 0.89506173],\n",
              "       [1.        , 0.        ],\n",
              "       [0.95054945, 0.04945055],\n",
              "       [0.97790055, 0.02209945],\n",
              "       [1.        , 0.        ],\n",
              "       [0.        , 1.        ],\n",
              "       [0.        , 1.        ],\n",
              "       [0.47738693, 0.52261307],\n",
              "       [0.87777778, 0.12222222],\n",
              "       [0.        , 1.        ],\n",
              "       [0.        , 1.        ],\n",
              "       [1.        , 0.        ],\n",
              "       [0.        , 1.        ],\n",
              "       [0.        , 1.        ],\n",
              "       [0.97191011, 0.02808989],\n",
              "       [0.        , 1.        ],\n",
              "       [0.265625  , 0.734375  ],\n",
              "       [0.        , 1.        ],\n",
              "       [1.        , 0.        ],\n",
              "       [0.        , 1.        ],\n",
              "       [0.        , 1.        ],\n",
              "       [0.96335079, 0.03664921],\n",
              "       [0.85      , 0.15      ],\n",
              "       [0.98901099, 0.01098901],\n",
              "       [0.        , 1.        ],\n",
              "       [0.11351351, 0.88648649],\n",
              "       [1.        , 0.        ],\n",
              "       [0.01639344, 0.98360656],\n",
              "       [0.        , 1.        ],\n",
              "       [0.07222222, 0.92777778],\n",
              "       [1.        , 0.        ],\n",
              "       [0.74444444, 0.25555556],\n",
              "       [0.        , 1.        ],\n",
              "       [0.84102564, 0.15897436],\n",
              "       [0.98857143, 0.01142857],\n",
              "       [0.20218579, 0.79781421],\n",
              "       [0.21022727, 0.78977273],\n",
              "       [1.        , 0.        ],\n",
              "       [0.        , 1.        ],\n",
              "       [0.        , 1.        ],\n",
              "       [0.        , 1.        ],\n",
              "       [0.2617801 , 0.7382199 ],\n",
              "       [0.95744681, 0.04255319],\n",
              "       [0.00934579, 0.99065421],\n",
              "       [1.        , 0.        ],\n",
              "       [0.99004975, 0.00995025],\n",
              "       [0.        , 1.        ],\n",
              "       [0.45810056, 0.54189944],\n",
              "       [1.        , 0.        ],\n",
              "       [0.        , 1.        ],\n",
              "       [1.        , 0.        ],\n",
              "       [0.        , 1.        ],\n",
              "       [0.        , 1.        ],\n",
              "       [0.09815951, 0.90184049],\n",
              "       [0.12562814, 0.87437186],\n",
              "       [0.99465241, 0.00534759],\n",
              "       [0.03888889, 0.96111111],\n",
              "       [1.        , 0.        ],\n",
              "       [0.39772727, 0.60227273],\n",
              "       [0.0972973 , 0.9027027 ],\n",
              "       [0.56976744, 0.43023256],\n",
              "       [0.5828877 , 0.4171123 ],\n",
              "       [0.        , 1.        ],\n",
              "       [1.        , 0.        ],\n",
              "       [0.        , 1.        ],\n",
              "       [0.        , 1.        ],\n",
              "       [0.65816327, 0.34183673],\n",
              "       [0.        , 1.        ],\n",
              "       [1.        , 0.        ],\n",
              "       [0.2183908 , 0.7816092 ],\n",
              "       [0.80978261, 0.19021739],\n",
              "       [0.07407407, 0.92592593],\n",
              "       [1.        , 0.        ],\n",
              "       [0.82857143, 0.17142857],\n",
              "       [0.        , 1.        ],\n",
              "       [0.00526316, 0.99473684],\n",
              "       [0.14606742, 0.85393258],\n",
              "       [0.02051282, 0.97948718],\n",
              "       [0.        , 1.        ],\n",
              "       [1.        , 0.        ],\n",
              "       [0.91891892, 0.08108108],\n",
              "       [0.1875    , 0.8125    ],\n",
              "       [0.94736842, 0.05263158],\n",
              "       [0.        , 1.        ],\n",
              "       [0.58823529, 0.41176471],\n",
              "       [0.07017544, 0.92982456],\n",
              "       [0.99441341, 0.00558659],\n",
              "       [0.82954545, 0.17045455],\n",
              "       [0.        , 1.        ],\n",
              "       [1.        , 0.        ],\n",
              "       [0.94350282, 0.05649718],\n",
              "       [0.        , 1.        ],\n",
              "       [0.        , 1.        ],\n",
              "       [1.        , 0.        ],\n",
              "       [0.        , 1.        ],\n",
              "       [1.        , 0.        ],\n",
              "       [0.28415301, 0.71584699],\n",
              "       [0.98275862, 0.01724138],\n",
              "       [1.        , 0.        ],\n",
              "       [0.        , 1.        ],\n",
              "       [0.00518135, 0.99481865],\n",
              "       [0.815     , 0.185     ],\n",
              "       [0.        , 1.        ],\n",
              "       [1.        , 0.        ],\n",
              "       [0.80203046, 0.19796954],\n",
              "       [0.93193717, 0.06806283],\n",
              "       [1.        , 0.        ],\n",
              "       [0.70987654, 0.29012346],\n",
              "       [0.59574468, 0.40425532],\n",
              "       [0.        , 1.        ],\n",
              "       [0.9122807 , 0.0877193 ],\n",
              "       [0.        , 1.        ],\n",
              "       [1.        , 0.        ],\n",
              "       [0.91237113, 0.08762887],\n",
              "       [1.        , 0.        ],\n",
              "       [1.        , 0.        ],\n",
              "       [0.71751412, 0.28248588],\n",
              "       [0.12643678, 0.87356322],\n",
              "       [0.50526316, 0.49473684],\n",
              "       [0.16483516, 0.83516484],\n",
              "       [0.        , 1.        ],\n",
              "       [0.828125  , 0.171875  ],\n",
              "       [0.84431138, 0.15568862],\n",
              "       [0.        , 1.        ],\n",
              "       [1.        , 0.        ],\n",
              "       [0.99438202, 0.00561798],\n",
              "       [1.        , 0.        ],\n",
              "       [0.        , 1.        ],\n",
              "       [0.03608247, 0.96391753],\n",
              "       [0.95238095, 0.04761905],\n",
              "       [0.94857143, 0.05142857],\n",
              "       [1.        , 0.        ],\n",
              "       [0.42682927, 0.57317073],\n",
              "       [1.        , 0.        ],\n",
              "       [0.00564972, 0.99435028],\n",
              "       [1.        , 0.        ],\n",
              "       [0.00990099, 0.99009901],\n",
              "       [1.        , 0.        ],\n",
              "       [1.        , 0.        ],\n",
              "       [1.        , 0.        ],\n",
              "       [0.        , 1.        ],\n",
              "       [0.95431472, 0.04568528],\n",
              "       [0.        , 1.        ],\n",
              "       [0.05421687, 0.94578313],\n",
              "       [0.        , 1.        ],\n",
              "       [0.        , 1.        ],\n",
              "       [1.        , 0.        ],\n",
              "       [1.        , 0.        ],\n",
              "       [0.        , 1.        ],\n",
              "       [1.        , 0.        ],\n",
              "       [0.01104972, 0.98895028],\n",
              "       [1.        , 0.        ],\n",
              "       [0.1       , 0.9       ],\n",
              "       [0.        , 1.        ],\n",
              "       [0.01052632, 0.98947368],\n",
              "       [0.        , 1.        ],\n",
              "       [0.40314136, 0.59685864],\n",
              "       [0.12568306, 0.87431694],\n",
              "       [0.21052632, 0.78947368],\n",
              "       [1.        , 0.        ],\n",
              "       [0.98876404, 0.01123596],\n",
              "       [0.23033708, 0.76966292],\n",
              "       [0.99428571, 0.00571429],\n",
              "       [0.00518135, 0.99481865],\n",
              "       [0.        , 1.        ],\n",
              "       [1.        , 0.        ],\n",
              "       [0.94210526, 0.05789474],\n",
              "       [0.31666667, 0.68333333],\n",
              "       [0.98477157, 0.01522843],\n",
              "       [1.        , 0.        ],\n",
              "       [0.        , 1.        ],\n",
              "       [0.99014778, 0.00985222],\n",
              "       [0.00529101, 0.99470899],\n",
              "       [0.01724138, 0.98275862],\n",
              "       [0.98265896, 0.01734104],\n",
              "       [1.        , 0.        ],\n",
              "       [0.03243243, 0.96756757],\n",
              "       [0.60752688, 0.39247312]])"
            ]
          },
          "metadata": {},
          "execution_count": 14
        }
      ]
    },
    {
      "cell_type": "code",
      "metadata": {
        "colab": {
          "base_uri": "https://localhost:8080/"
        },
        "id": "fEPYFn5WLc-x",
        "outputId": "da42b69d-21d8-47df-f9a5-421e6448c3cf"
      },
      "source": [
        "rnd_clf = RandomForestClassifier(n_estimators=500,\n",
        "                                 max_leaf_nodes=16,\n",
        "                                 n_jobs=-1)\n",
        "rnd_clf.fit(X_train, y_train)                            "
      ],
      "execution_count": 15,
      "outputs": [
        {
          "output_type": "execute_result",
          "data": {
            "text/plain": [
              "RandomForestClassifier(max_leaf_nodes=16, n_estimators=500, n_jobs=-1)"
            ]
          },
          "metadata": {},
          "execution_count": 15
        }
      ]
    },
    {
      "cell_type": "code",
      "metadata": {
        "id": "EmhwGKI_Lt4j"
      },
      "source": [
        "y_pred_rf = rnd_clf.predict(X_test)"
      ],
      "execution_count": 18,
      "outputs": []
    },
    {
      "cell_type": "code",
      "metadata": {
        "id": "33FGSK9qL3cp"
      },
      "source": [
        "bag_clf = BaggingClassifier(\n",
        "    DecisionTreeClassifier(splitter=\"random\",\n",
        "                           max_leaf_nodes=16),\n",
        "                            n_estimators=500,\n",
        "                            max_samples=-1,\n",
        "                            bootstrap=True,\n",
        "                            n_jobs=-1\n",
        ") # the equivalent code to randomforestclassifier code"
      ],
      "execution_count": 19,
      "outputs": []
    }
  ]
}